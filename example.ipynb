{
 "cells": [
  {
   "cell_type": "code",
   "execution_count": 3,
   "id": "33516558-ea9a-4911-822d-7939d12450a5",
   "metadata": {},
   "outputs": [],
   "source": [
    "from collision_checker.collision import *\n",
    "from collision_checker.check import get_collision, get_safe_lattice"
   ]
  },
  {
   "cell_type": "code",
   "execution_count": 4,
   "id": "accabcee-e990-411a-89d8-057915a08f24",
   "metadata": {},
   "outputs": [],
   "source": [
    "node_info = {\n",
    "    0:{\"frequency\":8000, \"anharmonicity\":-400, \"high_low\":\"high\"},\n",
    "    1:{\"frequency\":7200, \"anharmonicity\":-400, \"high_low\":\"low\"},\n",
    "    2:{\"frequency\":7100, \"anharmonicity\":-400, \"high_low\":\"low\"},\n",
    "    3:{\"frequency\":8100, \"anharmonicity\":-400, \"high_low\":\"high\"},\n",
    "}\n",
    "\n",
    "node_list = [0,1,2,3]\n",
    "edge_list = [(0,1),(0,2),(1,3),(2,3)]\n",
    "\n",
    "condition = [Type0A(), Type0B(), Type1(), Type2A(), Type2B(), Type3(), Type7(), Type8(), Type9()]"
   ]
  },
  {
   "cell_type": "code",
   "execution_count": 6,
   "id": "c26449ae-e315-46bf-a789-5be246e1cf42",
   "metadata": {},
   "outputs": [],
   "source": [
    "collision_info = get_collision(node_list, edge_list, node_info, condition)\n",
    "safe_nodes, safe_edges = get_safe_lattice(node_list, edge_list, collision_info)"
   ]
  },
  {
   "cell_type": "code",
   "execution_count": 7,
   "id": "31bf2f11-7df7-47ba-a25b-74dc2f921caa",
   "metadata": {},
   "outputs": [
    {
     "data": {
      "text/plain": [
       "{'Type0A': [],\n",
       " 'Type0B': [],\n",
       " 'Type1': [],\n",
       " 'Type2A': [],\n",
       " 'Type2B': [],\n",
       " 'Type3': [(0, 1)],\n",
       " 'Type7': [],\n",
       " 'Type8': [],\n",
       " 'Type9': []}"
      ]
     },
     "execution_count": 7,
     "metadata": {},
     "output_type": "execute_result"
    }
   ],
   "source": [
    "collision_info"
   ]
  },
  {
   "cell_type": "code",
   "execution_count": 9,
   "id": "8e34ef2c-44d2-4ec1-a6de-9e26a9468b27",
   "metadata": {},
   "outputs": [
    {
     "data": {
      "text/plain": [
       "([2, 3], [(2, 3)])"
      ]
     },
     "execution_count": 9,
     "metadata": {},
     "output_type": "execute_result"
    }
   ],
   "source": [
    "safe_nodes, safe_edges"
   ]
  },
  {
   "cell_type": "code",
   "execution_count": null,
   "id": "bddf9cb4-a00c-45d3-98ae-f96a8ceabd5b",
   "metadata": {},
   "outputs": [],
   "source": []
  }
 ],
 "metadata": {
  "kernelspec": {
   "display_name": "Python 3 (ipykernel)",
   "language": "python",
   "name": "python3"
  },
  "language_info": {
   "codemirror_mode": {
    "name": "ipython",
    "version": 3
   },
   "file_extension": ".py",
   "mimetype": "text/x-python",
   "name": "python",
   "nbconvert_exporter": "python",
   "pygments_lexer": "ipython3",
   "version": "3.7.5"
  }
 },
 "nbformat": 4,
 "nbformat_minor": 5
}
